{
 "cells": [
  {
   "cell_type": "code",
   "execution_count": 6,
   "metadata": {},
   "outputs": [],
   "source": [
    "# Pkg.add(\"UnicodePlots\")\n",
    "using UnicodePlots"
   ]
  },
  {
   "cell_type": "code",
   "execution_count": 7,
   "metadata": {},
   "outputs": [
    {
     "data": {
      "text/plain": [
       "manchester (generic function with 1 method)"
      ]
     },
     "execution_count": 7,
     "metadata": {},
     "output_type": "execute_result"
    }
   ],
   "source": [
    "# Manchester Encoding\n",
    "function manchester()\n",
    "    temp = [0, 1, 1, 2]\n",
    "    twos = [2, 2, 2, 2]\n",
    "\n",
    "    x_bound = Array{Int64, 1}()\n",
    "    y_bound = Array{Int64, 1}()\n",
    "\n",
    "    man_0 = [1, 1, -1, -1]\n",
    "    man_1 = [-1, -1, 1, 1]\n",
    "\n",
    "    for i in 1:input_size\n",
    "        a = (temp + twos * (i - 1))\n",
    "        append!(x_bound, a)\n",
    "        if bit[i] == 0\n",
    "            append!(y_bound, man_0)\n",
    "        elseif bit[i] == 1\n",
    "            append!(y_bound, man_1)\n",
    "        end\n",
    "    end\n",
    "\n",
    "    man = stairs(x_bound, y_bound,\n",
    "                    width=input_size*3,\n",
    "                    height=5,\n",
    "                    xlim=[0, input_size * 2],\n",
    "                    ylim=[-1, 1],\n",
    "                    border=:bold,\n",
    "                    title=\"Manchester Encoding\",\n",
    "                    color=:red,\n",
    "                    grid=false,\n",
    "                    canvas=DotCanvas);\n",
    "    print(man)\n",
    "end"
   ]
  },
  {
   "cell_type": "code",
   "execution_count": 8,
   "metadata": {},
   "outputs": [
    {
     "data": {
      "text/plain": [
       "diff_manchester (generic function with 1 method)"
      ]
     },
     "execution_count": 8,
     "metadata": {},
     "output_type": "execute_result"
    }
   ],
   "source": [
    "# Differential Manchester Encoding\n",
    "function diff_manchester()\n",
    "    init_0 = [0]\n",
    "    init_1 = [1]\n",
    "    temp = [0, 1, 1, 2]\n",
    "    twos = [2, 2, 2, 2]\n",
    "\n",
    "    x_bound = copy(init_0)\n",
    "    append!(x_bound, temp)\n",
    "    y_bound = copy(init_1)\n",
    "\n",
    "    man_0 = [1, 1, -1, -1]\n",
    "    man_1 = [-1, -1, 1, 1]\n",
    "\n",
    "    if bit[1] == 0\n",
    "        append!(y_bound, man_1)\n",
    "        global tmp = man_1\n",
    "    elseif bit[1] == 1\n",
    "        append!(y_bound, man_0)\n",
    "        global tmp = man_0\n",
    "    end\n",
    "\n",
    "    for i in 2:input_size\n",
    "        a = (temp + twos*(i-1))\n",
    "        append!(x_bound, a)\n",
    "        if bit[i] == 0\n",
    "            if tmp == man_1\n",
    "                append!(y_bound, man_1)\n",
    "                tmp = man_1\n",
    "            elseif tmp == man_0\n",
    "                append!(y_bound, man_0)\n",
    "                tmp = man_0\n",
    "            end\n",
    "        elseif bit[i] == 1\n",
    "            if tmp == man_1\n",
    "                append!(y_bound, man_0)\n",
    "                tmp = man_0\n",
    "            elseif tmp == man_0\n",
    "                append!(y_bound, man_1)\n",
    "                tmp = man_1\n",
    "            end\n",
    "        end\n",
    "    end\n",
    "\n",
    "    man = stairs(x_bound, y_bound,\n",
    "                    width=input_size*3,\n",
    "                    height=5,\n",
    "                    xlim=[0, input_size * 2],\n",
    "                    ylim=[-1,1],\n",
    "                    border=:bold,\n",
    "                    title=\"Differential Manchester Encoding\",\n",
    "                    color=:red,\n",
    "                    grid=false,\n",
    "                    canvas=DotCanvas);\n",
    "    print(man)\n",
    "end"
   ]
  },
  {
   "cell_type": "code",
   "execution_count": 9,
   "metadata": {},
   "outputs": [
    {
     "data": {
      "text/plain": [
       "main (generic function with 1 method)"
      ]
     },
     "execution_count": 9,
     "metadata": {},
     "output_type": "execute_result"
    }
   ],
   "source": [
    "function main()\n",
    "    global input\n",
    "    global bit = Array{Int64, 1}()\n",
    "\n",
    "    while true\n",
    "        cnt = 0\n",
    "        bit = []\n",
    "        print(\"\\nPlease type in binary code: \")\n",
    "        input = readline()\n",
    "        global input_size = length(input)\n",
    "        for i in 1:input_size\n",
    "            push!(bit, parse(Int64, input[i]))\n",
    "            if((bit[i] == 0) || (bit[i] == 1))\n",
    "                cnt += 1\n",
    "            end\n",
    "        end\n",
    "        if cnt == input_size\n",
    "            break\n",
    "        else\n",
    "            println(\"Not binary code! Please type in binary code\")\n",
    "        end\n",
    "    end\n",
    "\n",
    "    println()\n",
    "\n",
    "    manchester()\n",
    "    diff_manchester()\n",
    "end"
   ]
  },
  {
   "cell_type": "code",
   "execution_count": 10,
   "metadata": {},
   "outputs": [
    {
     "name": "stdout",
     "output_type": "stream",
     "text": [
      "\n",
      "Please type in binary code: STDIN> 1010110010101101010100101010101\n",
      "\n",
      "\u001b[37m                                           Manchester Encoding\n",
      "\u001b[39m\u001b[37m      ┏━━━━━━━━━━━━━━━━━━━━━━━━━━━━━━━━━━━━━━━━━━━━━━━━━━━━━━━━━━━━━━━━━━━━━━━━━━━━━━━━━━━━━━━━━━━━━┓\u001b[39m \n",
      "    \u001b[37m1\u001b[39m\u001b[37m ┃\u001b[39m\u001b[37m \u001b[39m\u001b[31m:\u001b[39m\u001b[31m'\u001b[39m\u001b[31m:\u001b[39m\u001b[37m \u001b[39m\u001b[37m \u001b[39m\u001b[31m:\u001b[39m\u001b[31m'\u001b[39m\u001b[31m'\u001b[39m\u001b[31m:\u001b[39m\u001b[37m \u001b[39m\u001b[31m:\u001b[39m\u001b[31m'\u001b[39m\u001b[31m:\u001b[39m\u001b[31m:\u001b[39m\u001b[31m'\u001b[39m\u001b[31m'\u001b[39m\u001b[31m:\u001b[39m\u001b[31m:\u001b[39m\u001b[31m:\u001b[39m\u001b[37m \u001b[39m\u001b[37m \u001b[39m\u001b[31m:\u001b[39m\u001b[31m'\u001b[39m\u001b[31m'\u001b[39m\u001b[31m:\u001b[39m\u001b[37m \u001b[39m\u001b[31m:\u001b[39m\u001b[31m'\u001b[39m\u001b[31m'\u001b[39m\u001b[31m:\u001b[39m\u001b[37m \u001b[39m\u001b[37m \u001b[39m\u001b[31m:\u001b[39m\u001b[31m:\u001b[39m\u001b[31m:\u001b[39m\u001b[31m'\u001b[39m\u001b[31m'\u001b[39m\u001b[31m:\u001b[39m\u001b[37m \u001b[39m\u001b[37m \u001b[39m\u001b[31m:\u001b[39m\u001b[31m'\u001b[39m\u001b[31m:\u001b[39m\u001b[37m \u001b[39m\u001b[37m \u001b[39m\u001b[31m:\u001b[39m\u001b[31m'\u001b[39m\u001b[31m'\u001b[39m\u001b[31m:\u001b[39m\u001b[37m \u001b[39m\u001b[31m:\u001b[39m\u001b[31m'\u001b[39m\u001b[31m'\u001b[39m\u001b[31m:\u001b[39m\u001b[31m:\u001b[39m\u001b[31m'\u001b[39m\u001b[31m:\u001b[39m\u001b[37m \u001b[39m\u001b[31m:\u001b[39m\u001b[31m'\u001b[39m\u001b[31m'\u001b[39m\u001b[31m:\u001b[39m\u001b[37m \u001b[39m\u001b[37m \u001b[39m\u001b[31m:\u001b[39m\u001b[31m'\u001b[39m\u001b[31m:\u001b[39m\u001b[37m \u001b[39m\u001b[37m \u001b[39m\u001b[31m:\u001b[39m\u001b[31m'\u001b[39m\u001b[31m'\u001b[39m\u001b[31m:\u001b[39m\u001b[37m \u001b[39m\u001b[31m:\u001b[39m\u001b[31m'\u001b[39m\u001b[31m'\u001b[39m\u001b[31m:\u001b[39m\u001b[37m \u001b[39m\u001b[37m \u001b[39m\u001b[31m:\u001b[39m\u001b[31m'\u001b[39m\u001b[37m \u001b[39m\u001b[37m \u001b[39m\u001b[37m \u001b[39m\u001b[37m \u001b[39m\u001b[37m \u001b[39m\u001b[37m \u001b[39m\u001b[37m \u001b[39m\u001b[37m \u001b[39m\u001b[37m \u001b[39m\u001b[37m \u001b[39m\u001b[37m┃\u001b[39m \u001b[37m\u001b[39m\n",
      "     \u001b[37m\u001b[39m\u001b[37m ┃\u001b[39m\u001b[37m \u001b[39m\u001b[31m:\u001b[39m\u001b[37m \u001b[39m\u001b[31m:\u001b[39m\u001b[37m \u001b[39m\u001b[37m \u001b[39m\u001b[31m:\u001b[39m\u001b[37m \u001b[39m\u001b[37m \u001b[39m\u001b[31m:\u001b[39m\u001b[37m \u001b[39m\u001b[31m:\u001b[39m\u001b[37m \u001b[39m\u001b[31m:\u001b[39m\u001b[31m:\u001b[39m\u001b[37m \u001b[39m\u001b[37m \u001b[39m\u001b[31m:\u001b[39m\u001b[31m:\u001b[39m\u001b[31m:\u001b[39m\u001b[37m \u001b[39m\u001b[37m \u001b[39m\u001b[31m:\u001b[39m\u001b[37m \u001b[39m\u001b[37m \u001b[39m\u001b[31m:\u001b[39m\u001b[37m \u001b[39m\u001b[31m:\u001b[39m\u001b[37m \u001b[39m\u001b[37m \u001b[39m\u001b[31m:\u001b[39m\u001b[37m \u001b[39m\u001b[37m \u001b[39m\u001b[31m:\u001b[39m\u001b[31m:\u001b[39m\u001b[31m:\u001b[39m\u001b[37m \u001b[39m\u001b[37m \u001b[39m\u001b[31m:\u001b[39m\u001b[37m \u001b[39m\u001b[37m \u001b[39m\u001b[31m:\u001b[39m\u001b[37m \u001b[39m\u001b[31m:\u001b[39m\u001b[37m \u001b[39m\u001b[37m \u001b[39m\u001b[31m:\u001b[39m\u001b[37m \u001b[39m\u001b[37m \u001b[39m\u001b[31m:\u001b[39m\u001b[37m \u001b[39m\u001b[31m:\u001b[39m\u001b[37m \u001b[39m\u001b[37m \u001b[39m\u001b[31m:\u001b[39m\u001b[31m:\u001b[39m\u001b[37m \u001b[39m\u001b[31m:\u001b[39m\u001b[37m \u001b[39m\u001b[31m:\u001b[39m\u001b[37m \u001b[39m\u001b[37m \u001b[39m\u001b[31m:\u001b[39m\u001b[37m \u001b[39m\u001b[37m \u001b[39m\u001b[31m:\u001b[39m\u001b[37m \u001b[39m\u001b[31m:\u001b[39m\u001b[37m \u001b[39m\u001b[37m \u001b[39m\u001b[31m:\u001b[39m\u001b[37m \u001b[39m\u001b[37m \u001b[39m\u001b[31m:\u001b[39m\u001b[37m \u001b[39m\u001b[31m:\u001b[39m\u001b[37m \u001b[39m\u001b[37m \u001b[39m\u001b[31m:\u001b[39m\u001b[37m \u001b[39m\u001b[37m \u001b[39m\u001b[31m:\u001b[39m\u001b[37m \u001b[39m\u001b[37m \u001b[39m\u001b[37m \u001b[39m\u001b[37m \u001b[39m\u001b[37m \u001b[39m\u001b[37m \u001b[39m\u001b[37m \u001b[39m\u001b[37m \u001b[39m\u001b[37m \u001b[39m\u001b[37m \u001b[39m\u001b[37m \u001b[39m\u001b[37m┃\u001b[39m \u001b[37m\u001b[39m\n",
      "   \u001b[37m\u001b[39m  \u001b[37m\u001b[39m\u001b[37m ┃\u001b[39m\u001b[37m \u001b[39m\u001b[31m:\u001b[39m\u001b[37m \u001b[39m\u001b[31m:\u001b[39m\u001b[37m \u001b[39m\u001b[37m \u001b[39m\u001b[31m:\u001b[39m\u001b[37m \u001b[39m\u001b[37m \u001b[39m\u001b[31m:\u001b[39m\u001b[37m \u001b[39m\u001b[31m:\u001b[39m\u001b[37m \u001b[39m\u001b[31m:\u001b[39m\u001b[31m:\u001b[39m\u001b[37m \u001b[39m\u001b[37m \u001b[39m\u001b[31m:\u001b[39m\u001b[31m:\u001b[39m\u001b[31m:\u001b[39m\u001b[37m \u001b[39m\u001b[37m \u001b[39m\u001b[31m:\u001b[39m\u001b[37m \u001b[39m\u001b[37m \u001b[39m\u001b[31m:\u001b[39m\u001b[37m \u001b[39m\u001b[31m:\u001b[39m\u001b[37m \u001b[39m\u001b[37m \u001b[39m\u001b[31m:\u001b[39m\u001b[37m \u001b[39m\u001b[37m \u001b[39m\u001b[31m:\u001b[39m\u001b[31m:\u001b[39m\u001b[31m:\u001b[39m\u001b[37m \u001b[39m\u001b[37m \u001b[39m\u001b[31m:\u001b[39m\u001b[37m \u001b[39m\u001b[37m \u001b[39m\u001b[31m:\u001b[39m\u001b[37m \u001b[39m\u001b[31m:\u001b[39m\u001b[37m \u001b[39m\u001b[37m \u001b[39m\u001b[31m:\u001b[39m\u001b[37m \u001b[39m\u001b[37m \u001b[39m\u001b[31m:\u001b[39m\u001b[37m \u001b[39m\u001b[31m:\u001b[39m\u001b[37m \u001b[39m\u001b[37m \u001b[39m\u001b[31m:\u001b[39m\u001b[31m:\u001b[39m\u001b[37m \u001b[39m\u001b[31m:\u001b[39m\u001b[37m \u001b[39m\u001b[31m:\u001b[39m\u001b[37m \u001b[39m\u001b[37m \u001b[39m\u001b[31m:\u001b[39m\u001b[37m \u001b[39m\u001b[37m \u001b[39m\u001b[31m:\u001b[39m\u001b[37m \u001b[39m\u001b[31m:\u001b[39m\u001b[37m \u001b[39m\u001b[37m \u001b[39m\u001b[31m:\u001b[39m\u001b[37m \u001b[39m\u001b[37m \u001b[39m\u001b[31m:\u001b[39m\u001b[37m \u001b[39m\u001b[31m:\u001b[39m\u001b[37m \u001b[39m\u001b[37m \u001b[39m\u001b[31m:\u001b[39m\u001b[37m \u001b[39m\u001b[37m \u001b[39m\u001b[31m:\u001b[39m\u001b[37m \u001b[39m\u001b[37m \u001b[39m\u001b[37m \u001b[39m\u001b[37m \u001b[39m\u001b[37m \u001b[39m\u001b[37m \u001b[39m\u001b[37m \u001b[39m\u001b[37m \u001b[39m\u001b[37m \u001b[39m\u001b[37m \u001b[39m\u001b[37m \u001b[39m\u001b[37m┃\u001b[39m \u001b[37m\u001b[39m\n",
      "     \u001b[37m\u001b[39m\u001b[37m ┃\u001b[39m\u001b[37m \u001b[39m\u001b[31m:\u001b[39m\u001b[37m \u001b[39m\u001b[31m:\u001b[39m\u001b[37m \u001b[39m\u001b[37m \u001b[39m\u001b[31m:\u001b[39m\u001b[37m \u001b[39m\u001b[37m \u001b[39m\u001b[31m:\u001b[39m\u001b[37m \u001b[39m\u001b[31m:\u001b[39m\u001b[37m \u001b[39m\u001b[31m:\u001b[39m\u001b[31m:\u001b[39m\u001b[37m \u001b[39m\u001b[37m \u001b[39m\u001b[31m:\u001b[39m\u001b[31m:\u001b[39m\u001b[31m:\u001b[39m\u001b[37m \u001b[39m\u001b[37m \u001b[39m\u001b[31m:\u001b[39m\u001b[37m \u001b[39m\u001b[37m \u001b[39m\u001b[31m:\u001b[39m\u001b[37m \u001b[39m\u001b[31m:\u001b[39m\u001b[37m \u001b[39m\u001b[37m \u001b[39m\u001b[31m:\u001b[39m\u001b[37m \u001b[39m\u001b[37m \u001b[39m\u001b[31m:\u001b[39m\u001b[31m:\u001b[39m\u001b[31m:\u001b[39m\u001b[37m \u001b[39m\u001b[37m \u001b[39m\u001b[31m:\u001b[39m\u001b[37m \u001b[39m\u001b[37m \u001b[39m\u001b[31m:\u001b[39m\u001b[37m \u001b[39m\u001b[31m:\u001b[39m\u001b[37m \u001b[39m\u001b[37m \u001b[39m\u001b[31m:\u001b[39m\u001b[37m \u001b[39m\u001b[37m \u001b[39m\u001b[31m:\u001b[39m\u001b[37m \u001b[39m\u001b[31m:\u001b[39m\u001b[37m \u001b[39m\u001b[37m \u001b[39m\u001b[31m:\u001b[39m\u001b[31m:\u001b[39m\u001b[37m \u001b[39m\u001b[31m:\u001b[39m\u001b[37m \u001b[39m\u001b[31m:\u001b[39m\u001b[37m \u001b[39m\u001b[37m \u001b[39m\u001b[31m:\u001b[39m\u001b[37m \u001b[39m\u001b[37m \u001b[39m\u001b[31m:\u001b[39m\u001b[37m \u001b[39m\u001b[31m:\u001b[39m\u001b[37m \u001b[39m\u001b[37m \u001b[39m\u001b[31m:\u001b[39m\u001b[37m \u001b[39m\u001b[37m \u001b[39m\u001b[31m:\u001b[39m\u001b[37m \u001b[39m\u001b[31m:\u001b[39m\u001b[37m \u001b[39m\u001b[37m \u001b[39m\u001b[31m:\u001b[39m\u001b[37m \u001b[39m\u001b[37m \u001b[39m\u001b[31m:\u001b[39m\u001b[37m \u001b[39m\u001b[37m \u001b[39m\u001b[37m \u001b[39m\u001b[37m \u001b[39m\u001b[37m \u001b[39m\u001b[37m \u001b[39m\u001b[37m \u001b[39m\u001b[37m \u001b[39m\u001b[37m \u001b[39m\u001b[37m \u001b[39m\u001b[37m \u001b[39m\u001b[37m┃\u001b[39m \u001b[37m\u001b[39m\n",
      "   \u001b[37m-1\u001b[39m\u001b[37m ┃\u001b[39m\u001b[31m.\u001b[39m\u001b[31m:\u001b[39m\u001b[37m \u001b[39m\u001b[31m:\u001b[39m\u001b[31m.\u001b[39m\u001b[31m.\u001b[39m\u001b[31m:\u001b[39m\u001b[37m \u001b[39m\u001b[37m \u001b[39m\u001b[31m:\u001b[39m\u001b[31m.\u001b[39m\u001b[31m:\u001b[39m\u001b[37m \u001b[39m\u001b[31m:\u001b[39m\u001b[31m:\u001b[39m\u001b[37m \u001b[39m\u001b[37m \u001b[39m\u001b[31m:\u001b[39m\u001b[31m:\u001b[39m\u001b[31m:\u001b[39m\u001b[31m.\u001b[39m\u001b[31m.\u001b[39m\u001b[31m:\u001b[39m\u001b[37m \u001b[39m\u001b[37m \u001b[39m\u001b[31m:\u001b[39m\u001b[31m.\u001b[39m\u001b[31m:\u001b[39m\u001b[37m \u001b[39m\u001b[37m \u001b[39m\u001b[31m:\u001b[39m\u001b[31m.\u001b[39m\u001b[31m.\u001b[39m\u001b[31m:\u001b[39m\u001b[31m:\u001b[39m\u001b[31m:\u001b[39m\u001b[37m \u001b[39m\u001b[37m \u001b[39m\u001b[31m:\u001b[39m\u001b[31m.\u001b[39m\u001b[31m.\u001b[39m\u001b[31m:\u001b[39m\u001b[37m \u001b[39m\u001b[31m:\u001b[39m\u001b[31m.\u001b[39m\u001b[31m.\u001b[39m\u001b[31m:\u001b[39m\u001b[37m \u001b[39m\u001b[37m \u001b[39m\u001b[31m:\u001b[39m\u001b[31m.\u001b[39m\u001b[31m:\u001b[39m\u001b[37m \u001b[39m\u001b[37m \u001b[39m\u001b[31m:\u001b[39m\u001b[31m:\u001b[39m\u001b[37m \u001b[39m\u001b[31m:\u001b[39m\u001b[31m.\u001b[39m\u001b[31m:\u001b[39m\u001b[37m \u001b[39m\u001b[37m \u001b[39m\u001b[31m:\u001b[39m\u001b[31m.\u001b[39m\u001b[31m.\u001b[39m\u001b[31m:\u001b[39m\u001b[37m \u001b[39m\u001b[31m:\u001b[39m\u001b[31m.\u001b[39m\u001b[31m.\u001b[39m\u001b[31m:\u001b[39m\u001b[37m \u001b[39m\u001b[37m \u001b[39m\u001b[31m:\u001b[39m\u001b[31m.\u001b[39m\u001b[31m:\u001b[39m\u001b[37m \u001b[39m\u001b[37m \u001b[39m\u001b[31m:\u001b[39m\u001b[31m.\u001b[39m\u001b[31m.\u001b[39m\u001b[31m:\u001b[39m\u001b[37m \u001b[39m\u001b[37m \u001b[39m\u001b[37m \u001b[39m\u001b[37m \u001b[39m\u001b[37m \u001b[39m\u001b[37m \u001b[39m\u001b[37m \u001b[39m\u001b[37m \u001b[39m\u001b[37m \u001b[39m\u001b[37m \u001b[39m\u001b[37m \u001b[39m\u001b[37m┃\u001b[39m \u001b[37m\u001b[39m\n",
      "\u001b[37m      ┗━━━━━━━━━━━━━━━━━━━━━━━━━━━━━━━━━━━━━━━━━━━━━━━━━━━━━━━━━━━━━━━━━━━━━━━━━━━━━━━━━━━━━━━━━━━━━┛\u001b[39m \n",
      "\u001b[37m      0\u001b[39m\u001b[37m                                              \u001b[39m\u001b[37m                                              70\n",
      "\u001b[39m\u001b[37m                                     Differential Manchester Encoding\n",
      "\u001b[39m\u001b[37m      ┏━━━━━━━━━━━━━━━━━━━━━━━━━━━━━━━━━━━━━━━━━━━━━━━━━━━━━━━━━━━━━━━━━━━━━━━━━━━━━━━━━━━━━━━━━━━━━┓\u001b[39m \n",
      "    \u001b[37m1\u001b[39m\u001b[37m ┃\u001b[39m\u001b[31m'\u001b[39m\u001b[31m:\u001b[39m\u001b[31m:\u001b[39m\u001b[31m:\u001b[39m\u001b[37m \u001b[39m\u001b[37m \u001b[39m\u001b[31m:\u001b[39m\u001b[31m:\u001b[39m\u001b[37m \u001b[39m\u001b[31m:\u001b[39m\u001b[31m'\u001b[39m\u001b[31m:\u001b[39m\u001b[37m \u001b[39m\u001b[37m \u001b[39m\u001b[31m:\u001b[39m\u001b[31m:\u001b[39m\u001b[37m \u001b[39m\u001b[31m:\u001b[39m\u001b[31m:\u001b[39m\u001b[31m:\u001b[39m\u001b[31m'\u001b[39m\u001b[31m'\u001b[39m\u001b[31m:\u001b[39m\u001b[31m:\u001b[39m\u001b[31m'\u001b[39m\u001b[31m:\u001b[39m\u001b[37m \u001b[39m\u001b[31m:\u001b[39m\u001b[31m'\u001b[39m\u001b[31m:\u001b[39m\u001b[31m:\u001b[39m\u001b[31m'\u001b[39m\u001b[31m'\u001b[39m\u001b[31m:\u001b[39m\u001b[37m \u001b[39m\u001b[31m:\u001b[39m\u001b[31m'\u001b[39m\u001b[31m:\u001b[39m\u001b[31m:\u001b[39m\u001b[31m'\u001b[39m\u001b[31m'\u001b[39m\u001b[31m:\u001b[39m\u001b[31m:\u001b[39m\u001b[31m:\u001b[39m\u001b[37m \u001b[39m\u001b[37m \u001b[39m\u001b[31m:\u001b[39m\u001b[31m:\u001b[39m\u001b[37m \u001b[39m\u001b[31m:\u001b[39m\u001b[31m'\u001b[39m\u001b[31m:\u001b[39m\u001b[37m \u001b[39m\u001b[31m:\u001b[39m\u001b[31m:\u001b[39m\u001b[31m:\u001b[39m\u001b[31m'\u001b[39m\u001b[31m:\u001b[39m\u001b[37m \u001b[39m\u001b[31m:\u001b[39m\u001b[31m'\u001b[39m\u001b[31m:\u001b[39m\u001b[31m:\u001b[39m\u001b[31m'\u001b[39m\u001b[31m'\u001b[39m\u001b[31m:\u001b[39m\u001b[31m:\u001b[39m\u001b[31m:\u001b[39m\u001b[37m \u001b[39m\u001b[37m \u001b[39m\u001b[31m:\u001b[39m\u001b[31m:\u001b[39m\u001b[37m \u001b[39m\u001b[31m:\u001b[39m\u001b[31m'\u001b[39m\u001b[31m:\u001b[39m\u001b[37m \u001b[39m\u001b[31m:\u001b[39m\u001b[31m:\u001b[39m\u001b[37m \u001b[39m\u001b[37m \u001b[39m\u001b[31m:\u001b[39m\u001b[31m'\u001b[39m\u001b[37m \u001b[39m\u001b[37m \u001b[39m\u001b[37m \u001b[39m\u001b[37m \u001b[39m\u001b[37m \u001b[39m\u001b[37m \u001b[39m\u001b[37m \u001b[39m\u001b[37m \u001b[39m\u001b[37m \u001b[39m\u001b[37m \u001b[39m\u001b[37m┃\u001b[39m \u001b[37m\u001b[39m\n",
      "     \u001b[37m\u001b[39m\u001b[37m ┃\u001b[39m\u001b[37m \u001b[39m\u001b[31m:\u001b[39m\u001b[31m:\u001b[39m\u001b[31m:\u001b[39m\u001b[37m \u001b[39m\u001b[37m \u001b[39m\u001b[31m:\u001b[39m\u001b[31m:\u001b[39m\u001b[37m \u001b[39m\u001b[31m:\u001b[39m\u001b[37m \u001b[39m\u001b[31m:\u001b[39m\u001b[37m \u001b[39m\u001b[37m \u001b[39m\u001b[31m:\u001b[39m\u001b[31m:\u001b[39m\u001b[37m \u001b[39m\u001b[31m:\u001b[39m\u001b[31m:\u001b[39m\u001b[31m:\u001b[39m\u001b[37m \u001b[39m\u001b[37m \u001b[39m\u001b[31m:\u001b[39m\u001b[31m:\u001b[39m\u001b[37m \u001b[39m\u001b[31m:\u001b[39m\u001b[37m \u001b[39m\u001b[31m:\u001b[39m\u001b[37m \u001b[39m\u001b[31m:\u001b[39m\u001b[31m:\u001b[39m\u001b[37m \u001b[39m\u001b[37m \u001b[39m\u001b[31m:\u001b[39m\u001b[37m \u001b[39m\u001b[31m:\u001b[39m\u001b[37m \u001b[39m\u001b[31m:\u001b[39m\u001b[31m:\u001b[39m\u001b[37m \u001b[39m\u001b[37m \u001b[39m\u001b[31m:\u001b[39m\u001b[31m:\u001b[39m\u001b[31m:\u001b[39m\u001b[37m \u001b[39m\u001b[37m \u001b[39m\u001b[31m:\u001b[39m\u001b[31m:\u001b[39m\u001b[37m \u001b[39m\u001b[31m:\u001b[39m\u001b[37m \u001b[39m\u001b[31m:\u001b[39m\u001b[37m \u001b[39m\u001b[31m:\u001b[39m\u001b[31m:\u001b[39m\u001b[31m:\u001b[39m\u001b[37m \u001b[39m\u001b[31m:\u001b[39m\u001b[37m \u001b[39m\u001b[31m:\u001b[39m\u001b[37m \u001b[39m\u001b[31m:\u001b[39m\u001b[31m:\u001b[39m\u001b[37m \u001b[39m\u001b[37m \u001b[39m\u001b[31m:\u001b[39m\u001b[31m:\u001b[39m\u001b[31m:\u001b[39m\u001b[37m \u001b[39m\u001b[37m \u001b[39m\u001b[31m:\u001b[39m\u001b[31m:\u001b[39m\u001b[37m \u001b[39m\u001b[31m:\u001b[39m\u001b[37m \u001b[39m\u001b[31m:\u001b[39m\u001b[37m \u001b[39m\u001b[31m:\u001b[39m\u001b[31m:\u001b[39m\u001b[37m \u001b[39m\u001b[37m \u001b[39m\u001b[31m:\u001b[39m\u001b[37m \u001b[39m\u001b[37m \u001b[39m\u001b[37m \u001b[39m\u001b[37m \u001b[39m\u001b[37m \u001b[39m\u001b[37m \u001b[39m\u001b[37m \u001b[39m\u001b[37m \u001b[39m\u001b[37m \u001b[39m\u001b[37m \u001b[39m\u001b[37m \u001b[39m\u001b[37m┃\u001b[39m \u001b[37m\u001b[39m\n",
      "   \u001b[37m\u001b[39m  \u001b[37m\u001b[39m\u001b[37m ┃\u001b[39m\u001b[37m \u001b[39m\u001b[31m:\u001b[39m\u001b[31m:\u001b[39m\u001b[31m:\u001b[39m\u001b[37m \u001b[39m\u001b[37m \u001b[39m\u001b[31m:\u001b[39m\u001b[31m:\u001b[39m\u001b[37m \u001b[39m\u001b[31m:\u001b[39m\u001b[37m \u001b[39m\u001b[31m:\u001b[39m\u001b[37m \u001b[39m\u001b[37m \u001b[39m\u001b[31m:\u001b[39m\u001b[31m:\u001b[39m\u001b[37m \u001b[39m\u001b[31m:\u001b[39m\u001b[31m:\u001b[39m\u001b[31m:\u001b[39m\u001b[37m \u001b[39m\u001b[37m \u001b[39m\u001b[31m:\u001b[39m\u001b[31m:\u001b[39m\u001b[37m \u001b[39m\u001b[31m:\u001b[39m\u001b[37m \u001b[39m\u001b[31m:\u001b[39m\u001b[37m \u001b[39m\u001b[31m:\u001b[39m\u001b[31m:\u001b[39m\u001b[37m \u001b[39m\u001b[37m \u001b[39m\u001b[31m:\u001b[39m\u001b[37m \u001b[39m\u001b[31m:\u001b[39m\u001b[37m \u001b[39m\u001b[31m:\u001b[39m\u001b[31m:\u001b[39m\u001b[37m \u001b[39m\u001b[37m \u001b[39m\u001b[31m:\u001b[39m\u001b[31m:\u001b[39m\u001b[31m:\u001b[39m\u001b[37m \u001b[39m\u001b[37m \u001b[39m\u001b[31m:\u001b[39m\u001b[31m:\u001b[39m\u001b[37m \u001b[39m\u001b[31m:\u001b[39m\u001b[37m \u001b[39m\u001b[31m:\u001b[39m\u001b[37m \u001b[39m\u001b[31m:\u001b[39m\u001b[31m:\u001b[39m\u001b[31m:\u001b[39m\u001b[37m \u001b[39m\u001b[31m:\u001b[39m\u001b[37m \u001b[39m\u001b[31m:\u001b[39m\u001b[37m \u001b[39m\u001b[31m:\u001b[39m\u001b[31m:\u001b[39m\u001b[37m \u001b[39m\u001b[37m \u001b[39m\u001b[31m:\u001b[39m\u001b[31m:\u001b[39m\u001b[31m:\u001b[39m\u001b[37m \u001b[39m\u001b[37m \u001b[39m\u001b[31m:\u001b[39m\u001b[31m:\u001b[39m\u001b[37m \u001b[39m\u001b[31m:\u001b[39m\u001b[37m \u001b[39m\u001b[31m:\u001b[39m\u001b[37m \u001b[39m\u001b[31m:\u001b[39m\u001b[31m:\u001b[39m\u001b[37m \u001b[39m\u001b[37m \u001b[39m\u001b[31m:\u001b[39m\u001b[37m \u001b[39m\u001b[37m \u001b[39m\u001b[37m \u001b[39m\u001b[37m \u001b[39m\u001b[37m \u001b[39m\u001b[37m \u001b[39m\u001b[37m \u001b[39m\u001b[37m \u001b[39m\u001b[37m \u001b[39m\u001b[37m \u001b[39m\u001b[37m \u001b[39m\u001b[37m┃\u001b[39m \u001b[37m\u001b[39m\n",
      "     \u001b[37m\u001b[39m\u001b[37m ┃\u001b[39m\u001b[37m \u001b[39m\u001b[31m:\u001b[39m\u001b[31m:\u001b[39m\u001b[31m:\u001b[39m\u001b[37m \u001b[39m\u001b[37m \u001b[39m\u001b[31m:\u001b[39m\u001b[31m:\u001b[39m\u001b[37m \u001b[39m\u001b[31m:\u001b[39m\u001b[37m \u001b[39m\u001b[31m:\u001b[39m\u001b[37m \u001b[39m\u001b[37m \u001b[39m\u001b[31m:\u001b[39m\u001b[31m:\u001b[39m\u001b[37m \u001b[39m\u001b[31m:\u001b[39m\u001b[31m:\u001b[39m\u001b[31m:\u001b[39m\u001b[37m \u001b[39m\u001b[37m \u001b[39m\u001b[31m:\u001b[39m\u001b[31m:\u001b[39m\u001b[37m \u001b[39m\u001b[31m:\u001b[39m\u001b[37m \u001b[39m\u001b[31m:\u001b[39m\u001b[37m \u001b[39m\u001b[31m:\u001b[39m\u001b[31m:\u001b[39m\u001b[37m \u001b[39m\u001b[37m \u001b[39m\u001b[31m:\u001b[39m\u001b[37m \u001b[39m\u001b[31m:\u001b[39m\u001b[37m \u001b[39m\u001b[31m:\u001b[39m\u001b[31m:\u001b[39m\u001b[37m \u001b[39m\u001b[37m \u001b[39m\u001b[31m:\u001b[39m\u001b[31m:\u001b[39m\u001b[31m:\u001b[39m\u001b[37m \u001b[39m\u001b[37m \u001b[39m\u001b[31m:\u001b[39m\u001b[31m:\u001b[39m\u001b[37m \u001b[39m\u001b[31m:\u001b[39m\u001b[37m \u001b[39m\u001b[31m:\u001b[39m\u001b[37m \u001b[39m\u001b[31m:\u001b[39m\u001b[31m:\u001b[39m\u001b[31m:\u001b[39m\u001b[37m \u001b[39m\u001b[31m:\u001b[39m\u001b[37m \u001b[39m\u001b[31m:\u001b[39m\u001b[37m \u001b[39m\u001b[31m:\u001b[39m\u001b[31m:\u001b[39m\u001b[37m \u001b[39m\u001b[37m \u001b[39m\u001b[31m:\u001b[39m\u001b[31m:\u001b[39m\u001b[31m:\u001b[39m\u001b[37m \u001b[39m\u001b[37m \u001b[39m\u001b[31m:\u001b[39m\u001b[31m:\u001b[39m\u001b[37m \u001b[39m\u001b[31m:\u001b[39m\u001b[37m \u001b[39m\u001b[31m:\u001b[39m\u001b[37m \u001b[39m\u001b[31m:\u001b[39m\u001b[31m:\u001b[39m\u001b[37m \u001b[39m\u001b[37m \u001b[39m\u001b[31m:\u001b[39m\u001b[37m \u001b[39m\u001b[37m \u001b[39m\u001b[37m \u001b[39m\u001b[37m \u001b[39m\u001b[37m \u001b[39m\u001b[37m \u001b[39m\u001b[37m \u001b[39m\u001b[37m \u001b[39m\u001b[37m \u001b[39m\u001b[37m \u001b[39m\u001b[37m \u001b[39m\u001b[37m┃\u001b[39m \u001b[37m\u001b[39m\n",
      "   \u001b[37m-1\u001b[39m\u001b[37m ┃\u001b[39m\u001b[37m \u001b[39m\u001b[31m:\u001b[39m\u001b[31m:\u001b[39m\u001b[31m:\u001b[39m\u001b[31m.\u001b[39m\u001b[31m.\u001b[39m\u001b[31m:\u001b[39m\u001b[31m:\u001b[39m\u001b[31m.\u001b[39m\u001b[31m:\u001b[39m\u001b[37m \u001b[39m\u001b[31m:\u001b[39m\u001b[31m.\u001b[39m\u001b[31m.\u001b[39m\u001b[31m:\u001b[39m\u001b[31m:\u001b[39m\u001b[31m.\u001b[39m\u001b[31m:\u001b[39m\u001b[31m:\u001b[39m\u001b[31m:\u001b[39m\u001b[37m \u001b[39m\u001b[37m \u001b[39m\u001b[31m:\u001b[39m\u001b[31m:\u001b[39m\u001b[37m \u001b[39m\u001b[31m:\u001b[39m\u001b[31m.\u001b[39m\u001b[31m:\u001b[39m\u001b[37m \u001b[39m\u001b[31m:\u001b[39m\u001b[31m:\u001b[39m\u001b[37m \u001b[39m\u001b[37m \u001b[39m\u001b[31m:\u001b[39m\u001b[31m.\u001b[39m\u001b[31m:\u001b[39m\u001b[37m \u001b[39m\u001b[31m:\u001b[39m\u001b[31m:\u001b[39m\u001b[37m \u001b[39m\u001b[37m \u001b[39m\u001b[31m:\u001b[39m\u001b[31m:\u001b[39m\u001b[31m:\u001b[39m\u001b[31m.\u001b[39m\u001b[31m.\u001b[39m\u001b[31m:\u001b[39m\u001b[31m:\u001b[39m\u001b[31m.\u001b[39m\u001b[31m:\u001b[39m\u001b[37m \u001b[39m\u001b[31m:\u001b[39m\u001b[31m.\u001b[39m\u001b[31m:\u001b[39m\u001b[31m:\u001b[39m\u001b[31m:\u001b[39m\u001b[37m \u001b[39m\u001b[31m:\u001b[39m\u001b[31m.\u001b[39m\u001b[31m:\u001b[39m\u001b[37m \u001b[39m\u001b[31m:\u001b[39m\u001b[31m:\u001b[39m\u001b[37m \u001b[39m\u001b[37m \u001b[39m\u001b[31m:\u001b[39m\u001b[31m:\u001b[39m\u001b[31m:\u001b[39m\u001b[31m.\u001b[39m\u001b[31m.\u001b[39m\u001b[31m:\u001b[39m\u001b[31m:\u001b[39m\u001b[31m.\u001b[39m\u001b[31m:\u001b[39m\u001b[37m \u001b[39m\u001b[31m:\u001b[39m\u001b[31m.\u001b[39m\u001b[31m:\u001b[39m\u001b[31m:\u001b[39m\u001b[31m.\u001b[39m\u001b[31m.\u001b[39m\u001b[31m:\u001b[39m\u001b[37m \u001b[39m\u001b[37m \u001b[39m\u001b[37m \u001b[39m\u001b[37m \u001b[39m\u001b[37m \u001b[39m\u001b[37m \u001b[39m\u001b[37m \u001b[39m\u001b[37m \u001b[39m\u001b[37m \u001b[39m\u001b[37m \u001b[39m\u001b[37m \u001b[39m\u001b[37m┃\u001b[39m \u001b[37m\u001b[39m\n"
     ]
    },
    {
     "name": "stdout",
     "output_type": "stream",
     "text": [
      "\u001b[37m      ┗━━━━━━━━━━━━━━━━━━━━━━━━━━━━━━━━━━━━━━━━━━━━━━━━━━━━━━━━━━━━━━━━━━━━━━━━━━━━━━━━━━━━━━━━━━━━━┛\u001b[39m \n",
      "\u001b[37m      0\u001b[39m\u001b[37m                                              \u001b[39m\u001b[37m                                              70\n",
      "\u001b[39m"
     ]
    }
   ],
   "source": [
    "main() # 시작!"
   ]
  },
  {
   "cell_type": "code",
   "execution_count": null,
   "metadata": {},
   "outputs": [],
   "source": []
  }
 ],
 "metadata": {
  "kernelspec": {
   "display_name": "Julia 0.6.2",
   "language": "julia",
   "name": "julia-0.6"
  },
  "language_info": {
   "file_extension": ".jl",
   "mimetype": "application/julia",
   "name": "julia",
   "version": "0.6.2"
  }
 },
 "nbformat": 4,
 "nbformat_minor": 2
}
